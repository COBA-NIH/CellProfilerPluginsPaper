{
 "cells": [
  {
   "cell_type": "code",
   "execution_count": 1,
   "id": "9e25fb10",
   "metadata": {},
   "outputs": [],
   "source": [
    "import pandas\n",
    "import seaborn as sns"
   ]
  },
  {
   "cell_type": "code",
   "execution_count": 2,
   "id": "53e93b2a",
   "metadata": {},
   "outputs": [],
   "source": [
    "bioimg = pandas.read_csv('PubMed_Timeline_Results_by_Year_bioimaging.csv',header=1,\n",
    "                         index_col='Year',dtype={'Count':'int'})\n",
    "bioimg.rename(columns={'Count':'bioimaging_count'},inplace=True)\n",
    "bioimg_a = pandas.read_csv('PubMed_Timeline_Results_by_Year_bioimage_analysis.csv',header=1,\n",
    "                           index_col='Year',dtype={'Count':'int'})\n",
    "bioimg_a.rename(columns={'Count':'bioimage_analysis_count'},inplace=True)\n",
    "merged = pandas.concat([bioimg,bioimg_a],axis=1)\n",
    "merged.drop([2023,1986,1988,1990],inplace=True)"
   ]
  },
  {
   "cell_type": "code",
   "execution_count": 3,
   "id": "4bf3c8df",
   "metadata": {},
   "outputs": [],
   "source": [
    "merged['bioimaging']=merged['bioimaging_count']/merged['bioimaging_count'].max()\n",
    "merged['bioimage analysis']=merged['bioimage_analysis_count']/merged['bioimage_analysis_count'].max()\n",
    "melted=merged.melt(ignore_index=False,var_name='Query')\n",
    "melted.reset_index(inplace=True)"
   ]
  },
  {
   "cell_type": "code",
   "execution_count": 4,
   "id": "e915ec30",
   "metadata": {},
   "outputs": [
    {
     "data": {
      "text/html": [
       "<div>\n",
       "<style scoped>\n",
       "    .dataframe tbody tr th:only-of-type {\n",
       "        vertical-align: middle;\n",
       "    }\n",
       "\n",
       "    .dataframe tbody tr th {\n",
       "        vertical-align: top;\n",
       "    }\n",
       "\n",
       "    .dataframe thead th {\n",
       "        text-align: right;\n",
       "    }\n",
       "</style>\n",
       "<table border=\"1\" class=\"dataframe\">\n",
       "  <thead>\n",
       "    <tr style=\"text-align: right;\">\n",
       "      <th></th>\n",
       "      <th>Year</th>\n",
       "      <th>Query</th>\n",
       "      <th>value</th>\n",
       "    </tr>\n",
       "  </thead>\n",
       "  <tbody>\n",
       "    <tr>\n",
       "      <th>0</th>\n",
       "      <td>2022</td>\n",
       "      <td>bioimaging_count</td>\n",
       "      <td>2587.000000</td>\n",
       "    </tr>\n",
       "    <tr>\n",
       "      <th>1</th>\n",
       "      <td>2021</td>\n",
       "      <td>bioimaging_count</td>\n",
       "      <td>2689.000000</td>\n",
       "    </tr>\n",
       "    <tr>\n",
       "      <th>2</th>\n",
       "      <td>2020</td>\n",
       "      <td>bioimaging_count</td>\n",
       "      <td>2292.000000</td>\n",
       "    </tr>\n",
       "    <tr>\n",
       "      <th>3</th>\n",
       "      <td>2019</td>\n",
       "      <td>bioimaging_count</td>\n",
       "      <td>2040.000000</td>\n",
       "    </tr>\n",
       "    <tr>\n",
       "      <th>4</th>\n",
       "      <td>2018</td>\n",
       "      <td>bioimaging_count</td>\n",
       "      <td>1808.000000</td>\n",
       "    </tr>\n",
       "    <tr>\n",
       "      <th>...</th>\n",
       "      <td>...</td>\n",
       "      <td>...</td>\n",
       "      <td>...</td>\n",
       "    </tr>\n",
       "    <tr>\n",
       "      <th>119</th>\n",
       "      <td>1996</td>\n",
       "      <td>bioimage analysis</td>\n",
       "      <td>0.014286</td>\n",
       "    </tr>\n",
       "    <tr>\n",
       "      <th>120</th>\n",
       "      <td>1995</td>\n",
       "      <td>bioimage analysis</td>\n",
       "      <td>0.028571</td>\n",
       "    </tr>\n",
       "    <tr>\n",
       "      <th>121</th>\n",
       "      <td>1994</td>\n",
       "      <td>bioimage analysis</td>\n",
       "      <td>0.042857</td>\n",
       "    </tr>\n",
       "    <tr>\n",
       "      <th>122</th>\n",
       "      <td>1993</td>\n",
       "      <td>bioimage analysis</td>\n",
       "      <td>0.014286</td>\n",
       "    </tr>\n",
       "    <tr>\n",
       "      <th>123</th>\n",
       "      <td>1992</td>\n",
       "      <td>bioimage analysis</td>\n",
       "      <td>0.014286</td>\n",
       "    </tr>\n",
       "  </tbody>\n",
       "</table>\n",
       "<p>124 rows × 3 columns</p>\n",
       "</div>"
      ],
      "text/plain": [
       "     Year              Query        value\n",
       "0    2022   bioimaging_count  2587.000000\n",
       "1    2021   bioimaging_count  2689.000000\n",
       "2    2020   bioimaging_count  2292.000000\n",
       "3    2019   bioimaging_count  2040.000000\n",
       "4    2018   bioimaging_count  1808.000000\n",
       "..    ...                ...          ...\n",
       "119  1996  bioimage analysis     0.014286\n",
       "120  1995  bioimage analysis     0.028571\n",
       "121  1994  bioimage analysis     0.042857\n",
       "122  1993  bioimage analysis     0.014286\n",
       "123  1992  bioimage analysis     0.014286\n",
       "\n",
       "[124 rows x 3 columns]"
      ]
     },
     "execution_count": 4,
     "metadata": {},
     "output_type": "execute_result"
    }
   ],
   "source": [
    "melted"
   ]
  },
  {
   "cell_type": "code",
   "execution_count": 5,
   "id": "63883f32",
   "metadata": {},
   "outputs": [
    {
     "data": {
      "image/png": "[encoded data removed]",
      "text/plain": [
       "<Figure size 640x480 with 1 Axes>"
      ]
     },
     "metadata": {},
     "output_type": "display_data"
    }
   ],
   "source": [
    "import matplotlib.pyplot as plt\n",
    "sns.barplot(data=melted,x='Year',y='value',hue='Query',hue_order=['bioimaging','bioimage analysis'],palette='cool')\n",
    "plt.xticks(rotation=45)\n",
    "plt.ylabel('Fraction of 2021 citations')\n",
    "plt.savefig('pubmed_citations.svg')\n",
    "plt.savefig('pubmed_citations.png')"
   ]
  },
  {
   "cell_type": "code",
   "execution_count": null,
   "id": "20b37925",
   "metadata": {},
   "outputs": [],
   "source": []
  }
 ],
 "metadata": {
  "kernelspec": {
   "display_name": "Python 3 (ipykernel)",
   "language": "python",
   "name": "python3"
  },
  "language_info": {
   "codemirror_mode": {
    "name": "ipython",
    "version": 3
   },
   "file_extension": ".py",
   "mimetype": "text/x-python",
   "name": "python",
   "nbconvert_exporter": "python",
   "pygments_lexer": "ipython3",
   "version": "3.8.16"
  }
 },
 "nbformat": 4,
 "nbformat_minor": 5
}
